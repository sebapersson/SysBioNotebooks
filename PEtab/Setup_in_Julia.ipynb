{
 "cells": [
  {
   "cell_type": "markdown",
   "metadata": {},
   "source": [
    "# Create PEtabODEProblem directly in Julia\n",
    "\n",
    "Importing PEtab problems if they are provided in the [standard format](https://petab.readthedocs.io/en/latest/tutorial.html) is easy (see for example this notebook). Additionally, when creating a PEtab problem is this [lint function](https://github.com/PEtab-dev/PEtab) can be used to check that the problem is correctly specified. However, while the PEtab table format is excellent for specifying parameter estimation problems for dynamic ODE models, setting up a parameter estimation problem directly in Julia can be more convenient.\n",
    "\n",
    "Here we demonstrate how to define a parameter estimation problem using a simple Micheli-Mentan model as an example. We will discuss in detail the five essential components required to define a problem:\n",
    "\n",
    "1. **Dynamic Model**: You can use either a `ReactionSystem` defined in [Catalyst](https://petab.readthedocs.io/en/latest/) or an `ODESystem` defined in [ModellingToolkit](https://github.com/SciML/ModelingToolkit.jl).\n",
    "2. **Observable Formula**: To link the model to the measurement data, you need an observable formula. Since real-world data often comes with measurement noise, you also must specify a noise formula and noise distribution. This is specified as a `PEtabObservable`.\n",
    "3. **Parameters to Estimate**: Typically, you do not want to estimate all model parameters. Moreover, sometimes you might want to incorporate prior beliefs by assigning priors to certain parameters. Parameter information is provided as a vector of `PEtabParameter`.\n",
    "4. **Simulation Conditions**: Measurements are often taken under various experimental conditions, such as different substrate concentrations. These experimental conditions typically correspond to model control parameters, like the initial value of a model species. You specify these conditions as a `Dict` (see below). In case the model only has a single simulation conditions, `simulation_conditions` can be omitted when building the `PEtabModel`.\n",
    "5. **Measurement Data**: To calibrate the model, you need measurement data, which should be provided as a `DataFrame`. The data format is explained below."
   ]
  },
  {
   "cell_type": "markdown",
   "metadata": {},
   "source": [
    "## Setup\n",
    "\n",
    "The packages needed are:\n",
    "\n",
    "- **PEtab.jl**: For building PEtab problems.\n",
    "- **OrdinaryDiffEq.jl**: For simulating ODE models.\n",
    "- **Catalyst.jl** and **ModelingToolkit.jl**: For formulating the dynamic model\n",
    "- **Distributions.jl**: For setting parameter priors."
   ]
  },
  {
   "cell_type": "code",
   "execution_count": 16,
   "metadata": {},
   "outputs": [],
   "source": [
    "using PEtab, OrdinaryDiffEq, Catalyst, ModelingToolkit, Distributions"
   ]
  },
  {
   "cell_type": "markdown",
   "metadata": {},
   "source": [
    "To define the dynamic model, you have two options; you can use a [Catalyst](https://petab.readthedocs.io/en/latest/) defined `ReactionSystem`, or a [ModellingToolkit](https://github.com/SciML/ModelingToolkit.jl) `ODESystem`. Using Catalyst we define the model as"
   ]
  },
  {
   "cell_type": "code",
   "execution_count": 17,
   "metadata": {},
   "outputs": [
    {
     "data": {
      "text/latex": [
       "$$ \\begin{align*}\n",
       "\\mathrm{S} + \\mathrm{E} &\\xrightleftharpoons[c2]{c1} \\mathrm{SE} \\\\\n",
       "\\mathrm{SE} &\\xrightarrow{c3} \\mathrm{P} + \\mathrm{E}  \n",
       " \\end{align*}\n",
       " $$"
      ],
      "text/plain": [
       "\u001b[0m\u001b[1mModel ##ReactionSystem#238\u001b[22m\n",
       "\u001b[0m\u001b[1mStates (4):\u001b[22m\n",
       "  SE(t) [defaults to se0]\n",
       "  S(t)\n",
       "  E(t)\n",
       "  P(t)\n",
       "\u001b[0m\u001b[1mParameters (4):\u001b[22m\n",
       "  se0\n",
       "  c1\n",
       "  c2\n",
       "  c3"
      ]
     },
     "metadata": {},
     "output_type": "display_data"
    }
   ],
   "source": [
    "rn = @reaction_network begin\n",
    "    @parameters se0\n",
    "    @species SE(t) = se0\n",
    "    c1, S + E --> SE\n",
    "    c2, SE --> S + E\n",
    "    c3, SE --> P + E\n",
    "end"
   ]
  },
  {
   "cell_type": "markdown",
   "metadata": {},
   "source": [
    "If you want to estimate the initial value of a species (like `SE`), you must define it as a parameter, as here with `SE(t) = se0`.\n",
    "\n",
    "Using a ModellingToolkit `ODESystem` we define the model as:"
   ]
  },
  {
   "cell_type": "code",
   "execution_count": 18,
   "metadata": {},
   "outputs": [
    {
     "data": {
      "text/latex": [
       "$$ \\begin{align}\n",
       "\\frac{\\mathrm{d} S\\left( t \\right)}{\\mathrm{d}t} =& c2 \\mathrm{SE}\\left( t \\right) - c1 E\\left( t \\right) S\\left( t \\right) \\\\\n",
       "\\frac{\\mathrm{d} E\\left( t \\right)}{\\mathrm{d}t} =& c2 \\mathrm{SE}\\left( t \\right) + c3 \\mathrm{SE}\\left( t \\right) - c1 E\\left( t \\right) S\\left( t \\right) \\\\\n",
       "\\frac{\\mathrm{d} \\mathrm{SE}\\left( t \\right)}{\\mathrm{d}t} =&  - c2 \\mathrm{SE}\\left( t \\right) - c3 \\mathrm{SE}\\left( t \\right) + c1 E\\left( t \\right) S\\left( t \\right) \\\\\n",
       "\\frac{\\mathrm{d} P\\left( t \\right)}{\\mathrm{d}t} =& c3 \\mathrm{SE}\\left( t \\right)\n",
       "\\end{align}\n",
       " $$"
      ],
      "text/plain": [
       "\u001b[0m\u001b[1mModel sys with 4 \u001b[22m\u001b[0m\u001b[1mequations\u001b[22m\n",
       "\u001b[0m\u001b[1mStates (4):\u001b[22m\n",
       "  S(t)\n",
       "  E(t)\n",
       "  SE(t) [defaults to se0]\n",
       "  P(t)\n",
       "\u001b[0m\u001b[1mParameters (3):\u001b[22m\n",
       "  c2\n",
       "  c1\n",
       "  c3"
      ]
     },
     "metadata": {},
     "output_type": "display_data"
    }
   ],
   "source": [
    "@parameters c1, c2, c3, se0\n",
    "@variables t S(t) SE(t) P(t) E(t)\n",
    "D = Differential(t)\n",
    "eqs = [\n",
    "    D(S) ~ -c1*S*E + c2*SE,\n",
    "    D(E) ~ -c1*S*E + c2*SE + c3*SE,\n",
    "    D(SE) ~ c1*S*E - c2*SE - c3*SE,\n",
    "    D(P) ~ c3*SE\n",
    "]\n",
    "@named sys = ODESystem(eqs; defaults=Dict(SE => se0))"
   ]
  },
  {
   "cell_type": "markdown",
   "metadata": {},
   "source": [
    "To estimate an initial value, such as `SE`, for an `ODESystem`, you need to define it using a dictionary under the `defaults` keyword, here done via `defaults = Dict(SE => se0)`.\n",
    "\n",
    "Regardless of how the model is defined, if you want to fixate a parameter or initial value to a constant value across all simulations, you can use a state and/or parameter map. For instance, to set `E` and `P` to be 1.0 and 0.0, and set `c1` to 1.0, do:"
   ]
  },
  {
   "cell_type": "code",
   "execution_count": 19,
   "metadata": {},
   "outputs": [
    {
     "data": {
      "text/plain": [
       "1-element Vector{Pair{Symbol, Float64}}:\n",
       " :c1 => 1.0"
      ]
     },
     "metadata": {},
     "output_type": "display_data"
    }
   ],
   "source": [
    "state_map = [:E => 1.0, :P => 0.0]\n",
    "parameter_map = [:c1 => 1.0]"
   ]
  },
  {
   "cell_type": "markdown",
   "metadata": {},
   "source": [
    "If a parameter or initial value is not specified anywhere it defaults to zero."
   ]
  },
  {
   "cell_type": "markdown",
   "metadata": {},
   "source": [
    "### Defining the Observable\n",
    "\n",
    "To connect our model with measurement data, we need an observable formula. Since data from a reaction networks typically includes measurement noise, we also require a noise formula and a noise distribution.\n",
    "\n",
    "Let us assume we are observing the product `P` with a normally distributed multiplicative measurement error (`sigma * P`) on a relative scale. To account for this relative scale we can as commonly done use `scale` and `offset` parameters. Additionally, let us assume we are directly measure the sum `E + SE` with log-normal measurement noise, and we already know the measurement error (`sigma`) is 3.0. This can be defined as"
   ]
  },
  {
   "cell_type": "code",
   "execution_count": 20,
   "metadata": {},
   "outputs": [
    {
     "data": {
      "text/plain": [
       "\u001b[38;5;116mPEtabObservable\u001b[39m: h = E(t) + SE(t), noise-formula = 3.0 and log-normal measurement noise"
      ]
     },
     "metadata": {},
     "output_type": "display_data"
    }
   ],
   "source": [
    "@unpack P, E, SE = rn\n",
    "@parameters sigma, scale, offset\n",
    "obs_P = PEtabObservable(scale * P + offset, sigma * P, transformation=:lin)\n",
    "obs_Sum = PEtabObservable(E + SE, 3.0, transformation=:log)"
   ]
  },
  {
   "cell_type": "markdown",
   "metadata": {},
   "source": [
    "To complete the definition, we group these observables together in a `Dict` with appropriate names:"
   ]
  },
  {
   "cell_type": "code",
   "execution_count": 21,
   "metadata": {},
   "outputs": [
    {
     "data": {
      "text/plain": [
       "Dict{String, PEtabObservable{Num}} with 2 entries:\n",
       "  \"obs_Sum\" => \u001b[38;5;116mPEtabObservable\u001b[39m: h = E(t) + SE(t), noise-formula = 3.0 and log-n\u001b[0m…\n",
       "  \"obs_P\"   => \u001b[38;5;116mPEtabObservable\u001b[39m: h = offset + scale*P(t), noise-formula = sigma*\u001b[0m…"
      ]
     },
     "metadata": {},
     "output_type": "display_data"
    }
   ],
   "source": [
    "observables = Dict(\"obs_P\" => obs_P,\n",
    "                   \"obs_Sum\" => obs_Sum)"
   ]
  },
  {
   "cell_type": "markdown",
   "metadata": {},
   "source": [
    "### Defining Parameters to Estimate\n",
    "\n",
    "To set up a parameter estimation problem, we need to specify the parameters to estimate. To improve the estimation it is often beneficial to define lower and upper bounds to restrict the parameter space. For example, let us assume we want to estimate the parameter `c3` with bounds `[1e-3, 1e3]` (default):\n",
    "\n",
    "Apart from estimating parameters in the reaction system, you can also estimate parameters related to measurement noise or parameters used exclusively in the observable formula (e.g., `scale` and `offset` parameters see above) by defining them as a `PEtabParameter`:"
   ]
  },
  {
   "cell_type": "code",
   "execution_count": 22,
   "metadata": {},
   "outputs": [
    {
     "data": {
      "text/plain": [
       "\u001b[38;5;116mPEtabParameter\u001b[39m c3. Estimated on log10-scale with bounds [1.0e-03, 1.0e+03]"
      ]
     },
     "metadata": {},
     "output_type": "display_data"
    }
   ],
   "source": [
    "_c3 = PEtabParameter(:c3, lb=1e-3, ub=1e3, scale=:log10)"
   ]
  },
  {
   "cell_type": "markdown",
   "metadata": {},
   "source": [
    "Here `scale=:log10` means that we are estimating the parameter on a log10 scale, which typically yields better results than a linear-scale. Overall the `scale` parameter can take on three values: `:lin`, `:log`, and `:log10` (default).\n",
    "\n",
    "If you have prior information about parameters, you can specify a continuous prior distribution from [Distributions.jl](https://github.com/JuliaStats/Distributions.jl). For instance, if you want to estimate `se0` (the initial value of species `SE`) and you know it should be around 3.1, you can set a prior as:"
   ]
  },
  {
   "cell_type": "code",
   "execution_count": 23,
   "metadata": {},
   "outputs": [
    {
     "data": {
      "text/plain": [
       "\u001b[38;5;116mPEtabParameter\u001b[39m se0. Estimated on log10-scale with bounds [1.0e-03, 1.0e+03] and prior LogNormal{Float64}(μ=1.1314021114911006, σ=0.5)"
      ]
     },
     "metadata": {},
     "output_type": "display_data"
    }
   ],
   "source": [
    "_se0 = PEtabParameter(:se0, prior=LogNormal(log(3.1), 0.5), \n",
    "                      prior_on_linear_scale=true, sample_from_prior=true)"
   ]
  },
  {
   "cell_type": "markdown",
   "metadata": {},
   "source": [
    "In this case, `prior_on_linear_scale=true` (default) indicates that the prior is defined on the linear scale, not the default transformed log10 scale used for parameter estimation. Moreover, for parameters with priors, start-guesses for parameter estimation are generated from the prior distribution (instead of randomly within the upper and lower bounds), if you want to disable this for a specific parameter set `sample_from_prior=false` (default is true), more information can be found [here]()."
   ]
  },
  {
   "cell_type": "code",
   "execution_count": 24,
   "metadata": {},
   "outputs": [
    {
     "data": {
      "text/plain": [
       "\u001b[38;5;116mPEtabParameter\u001b[39m offset. Estimated on log10-scale with bounds [1.0e-03, 1.0e+03]"
      ]
     },
     "metadata": {},
     "output_type": "display_data"
    }
   ],
   "source": [
    "# Using default bounds [1e-3, 1e3] and scale=:log10\n",
    "_sigma = PEtabParameter(:sigma)\n",
    "_scale = PEtabParameter(:scale)\n",
    "_offset = PEtabParameter(:offset)"
   ]
  },
  {
   "cell_type": "markdown",
   "metadata": {},
   "source": [
    "Once the parameters are defined they should be gathered into a vector"
   ]
  },
  {
   "cell_type": "code",
   "execution_count": 25,
   "metadata": {},
   "outputs": [
    {
     "data": {
      "text/plain": [
       "6-element Vector{PEtabParameter}:\n",
       " \u001b[38;5;116mPEtabParameter\u001b[39m c2. Estimated on log10-scale with bounds [1.0e-03, 1.0e+03]\n",
       " \u001b[38;5;116mPEtabParameter\u001b[39m c3. Estimated on log10-scale with bounds [1.0e-03, 1.0e+03]\n",
       " \u001b[38;5;116mPEtabParameter\u001b[39m se0. Estimated on log10-scale with bounds [1.0e-03, 1.0e+03] and prior LogNormal{Float64}(μ=1.1314021114911006, σ=0.5)\n",
       " \u001b[38;5;116mPEtabParameter\u001b[39m sigma. Estimated on log10-scale with bounds [1.0e-03, 1.0e+03]\n",
       " \u001b[38;5;116mPEtabParameter\u001b[39m scale. Estimated on log10-scale with bounds [1.0e-03, 1.0e+03]\n",
       " \u001b[38;5;116mPEtabParameter\u001b[39m offset. Estimated on log10-scale with bounds [1.0e-03, 1.0e+03]"
      ]
     },
     "metadata": {},
     "output_type": "display_data"
    }
   ],
   "source": [
    "_c2 = PEtabParameter(:c2)\n",
    "parameters = [_c2, _c3, _se0, _sigma, _scale, _offset]"
   ]
  },
  {
   "cell_type": "markdown",
   "metadata": {},
   "source": [
    "### Defining Simulation Conditions\n",
    "\n",
    "Data is often collected under various experimental settings, such as different initial concentrations of a substrate. These variations in experimental conditions correspond to different simulation conditions during model calibration. To effectively align your measurements with the data, you need to specify these simulation conditions using a dictionary.\n",
    "\n",
    "Specifically, assume you have measured your data under two conditions: `c0` and `c1`, where each condition has different starting concentrations for the substrate `S`. This can be defined as:"
   ]
  },
  {
   "cell_type": "code",
   "execution_count": 26,
   "metadata": {},
   "outputs": [
    {
     "data": {
      "text/plain": [
       "Dict{Symbol, Float64} with 1 entry:\n",
       "  :S => 2.0"
      ]
     },
     "metadata": {},
     "output_type": "display_data"
    }
   ],
   "source": [
    "condition_c0 = Dict(:S => 5.0)\n",
    "condition_c1 = Dict(:S => 2.0)"
   ]
  },
  {
   "cell_type": "markdown",
   "metadata": {},
   "source": [
    "Here, the key (in this case, `S`) can represent either a model species (as in this case) or a parameter. To complete the setup, gather all the simulation conditions in a dictionary, and assign each condition an appropriate name:"
   ]
  },
  {
   "cell_type": "code",
   "execution_count": 27,
   "metadata": {},
   "outputs": [
    {
     "data": {
      "text/plain": [
       "Dict{String, Dict{Symbol, Float64}} with 2 entries:\n",
       "  \"c1\" => Dict(:S=>2.0)\n",
       "  \"c0\" => Dict(:S=>5.0)"
      ]
     },
     "metadata": {},
     "output_type": "display_data"
    }
   ],
   "source": [
    "simulation_conditions = Dict(\"c0\" => condition_c0,\n",
    "                             \"c1\" => condition_c1)"
   ]
  },
  {
   "cell_type": "markdown",
   "metadata": {},
   "source": [
    "**Note** - If a parameter or species is specified for one simulation condition, it must be specified for all simulation conditions."
   ]
  },
  {
   "cell_type": "markdown",
   "metadata": {},
   "source": [
    "## Defining Measurement Data\n",
    "\n",
    "The measurement data should be organized as a `DataFrame` in the following format (the column names matter, but not the order)\n",
    "\n",
    "| simulation_id (str) | obs_id (str) | time (float) | measurement (float) |\n",
    "|---------------------|--------------|--------------|---------------------|\n",
    "| c0                  | obs_P        | 1.0          | 0.7                 |\n",
    "| c0                  | obs_Sum      | 10.0         | 0.1                 |\n",
    "| c1                  | obs_P        | 1.0          | 1.0                 |\n",
    "| c1                  | obs_Sum      | 20.0         | 1.5                 |\n",
    "\n",
    "For each measurement, you need to specify:\n",
    "\n",
    "- `simulation_id`: Identifies the simulation condition it corresponds to.\n",
    "- `obs_id`: Specifies the observable it corresponds to.\n",
    "- `time`: Indicates the time point at which the data was collected.\n",
    "- `measurement`: The actual measurement value.\n",
    "\n",
    "For this case, the input would look like;"
   ]
  },
  {
   "cell_type": "code",
   "execution_count": 28,
   "metadata": {},
   "outputs": [
    {
     "data": {
      "text/html": [
       "<div><div style = \"float: left;\"><span>4×4 DataFrame</span></div><div style = \"clear: both;\"></div></div><div class = \"data-frame\" style = \"overflow-x: scroll;\"><table class = \"data-frame\" style = \"margin-bottom: 6px;\"><thead><tr class = \"header\"><th class = \"rowNumber\" style = \"font-weight: bold; text-align: right;\">Row</th><th style = \"text-align: left;\">simulation_id</th><th style = \"text-align: left;\">obs_id</th><th style = \"text-align: left;\">time</th><th style = \"text-align: left;\">measurement</th></tr><tr class = \"subheader headerLastRow\"><th class = \"rowNumber\" style = \"font-weight: bold; text-align: right;\"></th><th title = \"String\" style = \"text-align: left;\">String</th><th title = \"String\" style = \"text-align: left;\">String</th><th title = \"Float64\" style = \"text-align: left;\">Float64</th><th title = \"Float64\" style = \"text-align: left;\">Float64</th></tr></thead><tbody><tr><td class = \"rowNumber\" style = \"font-weight: bold; text-align: right;\">1</td><td style = \"text-align: left;\">c0</td><td style = \"text-align: left;\">obs_P</td><td style = \"text-align: right;\">1.0</td><td style = \"text-align: right;\">0.7</td></tr><tr><td class = \"rowNumber\" style = \"font-weight: bold; text-align: right;\">2</td><td style = \"text-align: left;\">c0</td><td style = \"text-align: left;\">obs_Sum</td><td style = \"text-align: right;\">10.0</td><td style = \"text-align: right;\">0.1</td></tr><tr><td class = \"rowNumber\" style = \"font-weight: bold; text-align: right;\">3</td><td style = \"text-align: left;\">c1</td><td style = \"text-align: left;\">obs_P</td><td style = \"text-align: right;\">1.0</td><td style = \"text-align: right;\">1.0</td></tr><tr><td class = \"rowNumber\" style = \"font-weight: bold; text-align: right;\">4</td><td style = \"text-align: left;\">c1</td><td style = \"text-align: left;\">obs_Sum</td><td style = \"text-align: right;\">20.0</td><td style = \"text-align: right;\">1.5</td></tr></tbody></table></div>"
      ],
      "text/latex": [
       "\\begin{tabular}{r|cccc}\n",
       "\t& simulation\\_id & obs\\_id & time & measurement\\\\\n",
       "\t\\hline\n",
       "\t& String & String & Float64 & Float64\\\\\n",
       "\t\\hline\n",
       "\t1 & c0 & obs\\_P & 1.0 & 0.7 \\\\\n",
       "\t2 & c0 & obs\\_Sum & 10.0 & 0.1 \\\\\n",
       "\t3 & c1 & obs\\_P & 1.0 & 1.0 \\\\\n",
       "\t4 & c1 & obs\\_Sum & 20.0 & 1.5 \\\\\n",
       "\\end{tabular}\n"
      ],
      "text/plain": [
       "\u001b[1m4×4 DataFrame\u001b[0m\n",
       "\u001b[1m Row \u001b[0m│\u001b[1m simulation_id \u001b[0m\u001b[1m obs_id  \u001b[0m\u001b[1m time    \u001b[0m\u001b[1m measurement \u001b[0m\n",
       "     │\u001b[90m String        \u001b[0m\u001b[90m String  \u001b[0m\u001b[90m Float64 \u001b[0m\u001b[90m Float64     \u001b[0m\n",
       "─────┼──────────────────────────────────────────────\n",
       "   1 │ c0             obs_P        1.0          0.7\n",
       "   2 │ c0             obs_Sum     10.0          0.1\n",
       "   3 │ c1             obs_P        1.0          1.0\n",
       "   4 │ c1             obs_Sum     20.0          1.5"
      ]
     },
     "metadata": {},
     "output_type": "display_data"
    }
   ],
   "source": [
    "using DataFrames\n",
    "measurements = DataFrame(\n",
    "    simulation_id=[\"c0\", \"c0\", \"c1\", \"c1\"],\n",
    "    obs_id=[\"obs_P\", \"obs_Sum\", \"obs_P\", \"obs_Sum\"],\n",
    "    time=[1.0, 10.0, 1.0, 20.0],\n",
    "    measurement=[0.7, 0.1, 1.0, 1.5])"
   ]
  },
  {
   "cell_type": "markdown",
   "metadata": {},
   "source": [
    "### Bringing It All Together\n",
    "\n",
    "After defining the model, observables, parameters to estimate, simulation conditions, and measurement data, you can easily create a `PEtabODEProblem` for your parameter estimation task using the `ReactionSystem`:"
   ]
  },
  {
   "cell_type": "code",
   "execution_count": 29,
   "metadata": {},
   "outputs": [],
   "source": [
    "petab_model = PEtabModel(rn, simulation_conditions, observables, measurements,\n",
    "                         parameters, state_map=state_map, parameter_map=parameter_map,\n",
    "                         verbose=false)\n",
    "petab_problem = PEtabODEProblem(petab_model, verbose=false)\n",
    "nothing"
   ]
  },
  {
   "cell_type": "markdown",
   "metadata": {},
   "source": [
    "or the `ODESystem`:"
   ]
  },
  {
   "cell_type": "code",
   "execution_count": 30,
   "metadata": {},
   "outputs": [],
   "source": [
    "petab_model = PEtabModel(sys, simulation_conditions, observables, measurements,\n",
    "                         parameters, state_map=state_map, parameter_map=parameter_map,\n",
    "                         verbose=false)\n",
    "petab_problem = PEtabODEProblem(petab_model, verbose=false)\n",
    "nothing"
   ]
  },
  {
   "cell_type": "markdown",
   "metadata": {},
   "source": [
    "The `PEtabODEProblem` contains all the necessary information to work with most available optimizers, and for doing Bayesian inference. There are several other notebooks available in this repository covering how to work with it; like how to simulate the ODE model in a PEtab problem, computing model derivatives, doing parameter estimation, and performing Bayesian inference.\n",
    "\n",
    "### Next steps \n",
    "\n",
    "This example has covered the fundamental aspects of setting up a `PEtabODEProblem` problem directly Julia, but there are additional options:\n",
    "\n",
    "- **Steady-State Initialization**: In some cases, you might require your model to be at a steady-state at time zero when starting to match the model against data. To learn how to set up pre-equilibration criteria, see [this](https://sebapersson.github.io/PEtab.jl/stable/Julia_steady_state/) tutorial.\n",
    "\n",
    "- **Time-Point Specific Parameters**: You might measure the same observable with different assays, leading to different observable parameters (e.g., scale and offset) and noise parameters for various time points. To handle time-point-specific measurement and noise parameters, see [this](https://sebapersson.github.io/PEtab.jl/stable/Julia_obs_noise/) tutorial.\n",
    "\n",
    "- **Condition Specific System/Model Parameters**: Sometimes a subset of model parameters, like protein synthesis rates, vary between simulation conditions, while other parameters remain constant across all conditions. To handle conditions specific parameters, see [this](https://sebapersson.github.io/PEtab.jl/stable/Julia_condition_specific/s) tutorial.\n",
    "\n",
    "- **Events**: Sometimes a model incorporates events like substrate addition at specific time points, and/or parameter changes when a state/species reaches certain values. To manage these events/callbacks, see [this](https://sebapersson.github.io/PEtab.jl/stable/Julia_event/) tutorial."
   ]
  }
 ],
 "metadata": {
  "kernelspec": {
   "display_name": "Julia 1.10.1",
   "language": "julia",
   "name": "julia-1.10"
  },
  "language_info": {
   "file_extension": ".jl",
   "mimetype": "application/julia",
   "name": "julia",
   "version": "1.10.1"
  }
 },
 "nbformat": 4,
 "nbformat_minor": 2
}
